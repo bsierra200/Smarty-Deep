{
 "cells": [
  {
   "cell_type": "markdown",
   "metadata": {},
   "source": [
    "___\n",
    "\n",
    "<a href='http://www.smartydreams.com'><img src='../smarty.PNG'/></a>\n",
    "___\n",
    "<center><em>Copyright SmartyDreams Author:Bryan Sierra Garcia</em></center>\n"
   ]
  },
  {
   "cell_type": "markdown",
   "metadata": {
    "collapsed": true
   },
   "source": [
    "# Introducción a  pandas\n",
    "\n",
    "En esta sección  aprenderemos cómo usar pandas para el análisis de datos. Puede pensar en  pandas como una versión extremadamente poderosa de Excel, con muchas más funciones. En esta sección , debe revisar los cuadernos en este orden:\n",
    "\n",
    "* Introducción a pandas\n",
    "* Serie\n",
    "* DataFrames\n",
    "* Datos perdidos\n",
    "* Agrupar por\n",
    "* Fusión, unión y concatenación\n",
    "* Operaciones\n",
    "* Entrada y salida de datos"
   ]
  },
  {
   "cell_type": "markdown",
   "metadata": {},
   "source": [
    "___"
   ]
  }
 ],
 "metadata": {
  "kernelspec": {
   "display_name": "Python 3",
   "language": "python",
   "name": "python3"
  },
  "language_info": {
   "codemirror_mode": {
    "name": "ipython",
    "version": 3
   },
   "file_extension": ".py",
   "mimetype": "text/x-python",
   "name": "python",
   "nbconvert_exporter": "python",
   "pygments_lexer": "ipython3",
   "version": "3.8.5"
  }
 },
 "nbformat": 4,
 "nbformat_minor": 1
}
